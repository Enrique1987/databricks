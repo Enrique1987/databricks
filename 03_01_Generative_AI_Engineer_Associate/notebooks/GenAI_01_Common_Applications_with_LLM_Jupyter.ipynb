{
 "cells": [
  {
   "cell_type": "markdown",
   "id": "ff953e76",
   "metadata": {},
   "source": [
    "<div style=\"text-align: center; line-height: 0; padding-top: 9px;\">\n",
    "<img src=\"https://databricks.com/wp-content/uploads/2018/03/db-academy-rgb-1200px.png\" alt=\"Databricks Learning\" style=\"width: 600px\">\n",
    "</div>"
   ]
  },
  {
   "cell_type": "markdown",
   "id": "66c38543",
   "metadata": {},
   "source": [
    "## GenAI 01 Common Applications with LLM\n"
   ]
  },
  {
   "cell_type": "code",
   "execution_count": null,
   "id": "950aa030",
   "metadata": {},
   "outputs": [],
   "source": []
  }
 ],
 "metadata": {
  "kernelspec": {
   "display_name": "Python 3 (ipykernel)",
   "language": "python",
   "name": "python3"
  },
  "language_info": {
   "codemirror_mode": {
    "name": "ipython",
    "version": 3
   },
   "file_extension": ".py",
   "mimetype": "text/x-python",
   "name": "python",
   "nbconvert_exporter": "python",
   "pygments_lexer": "ipython3",
   "version": "3.11.5"
  }
 },
 "nbformat": 4,
 "nbformat_minor": 5
}
