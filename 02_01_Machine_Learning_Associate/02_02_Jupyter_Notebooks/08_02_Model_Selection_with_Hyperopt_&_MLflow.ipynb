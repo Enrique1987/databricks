{
 "cells": [
  {
   "cell_type": "markdown",
   "id": "a97dda72",
   "metadata": {},
   "source": [
    "## Model Selection with Hyperopt & MLflow"
   ]
  },
  {
   "cell_type": "code",
   "execution_count": 2,
   "id": "b829befe",
   "metadata": {},
   "outputs": [],
   "source": [
    "import numpy as np\n",
    "\n",
    "from sklearn.datasets import fetch_california_housing\n",
    "from sklearn.model_selection import cross_val_score\n",
    "from sklearn.svm import SVC\n",
    "from sklearn.ensemble import RandomForestClassifier\n",
    "from sklearn.linear_model import LogisticRegression\n",
    "\n",
    "from hyperopt import fmin, tpe, hp, SparkTrials, STATUS_OK, Trials\n",
    "\n",
    "import mlflow"
   ]
  },
  {
   "cell_type": "markdown",
   "id": "458a6fb9",
   "metadata": {},
   "source": [
    "### California housing dataset\n",
    "\n",
    "- The California housing dataset is a widely used dataset in machine learning and is available in the scikit-learn library\n",
    "- It contains information about housing prices in various districts of California. The dataset is often used for regression tasks to predict the median house value in a given district based on several features.\n",
    "\n",
    "- **The California housing dataset provides the following information for each district:**\n",
    "\n",
    "1) MedInc: Median income of households in the district.\n",
    "2) HouseAge: Median age of houses in the district.\n",
    "3) AveRooms: Average number of rooms per house.\n",
    "4) AveBedrms: Average number of bedrooms per house.\n",
    "5) Population: Total population in the district.\n",
    "6) AveOccup: Average number of occupants per house.\n",
    "7) Latitude: Latitude of the district's location.\n",
    "8) Longitude: Longitude of the district's location.\n",
    "9) MedHouseVal: Median value of houses in the district (the target variable).\n",
    "\n",
    "- The goal of using this dataset is typically to build a regression model that can predict the median house value based on the given features."
   ]
  },
  {
   "cell_type": "code",
   "execution_count": 3,
   "id": "ffb97756",
   "metadata": {},
   "outputs": [],
   "source": [
    "X, y = fetch_california_housing(return_X_y=True)"
   ]
  },
  {
   "cell_type": "markdown",
   "id": "af9b0819",
   "metadata": {},
   "source": [
    "#### Feature engineering \n",
    "##### Scale the features\n",
    "\n",
    "Its the process of transformation numerical features in a dataset to a common scale. Its a crucial stept in data pre-procesing, help to bring the features to similar range of magnitude."
   ]
  },
  {
   "cell_type": "code",
   "execution_count": null,
   "id": "93c81d30",
   "metadata": {},
   "outputs": [],
   "source": [
    "from sklearn.preprocessing import StandardScaler\n",
    "\n",
    "X.mean(axis=0)\n",
    "scalar = StandardScaler()\n",
    "X = scalar.fit_transform(X)\n",
    "X.mean(axis=0)"
   ]
  },
  {
   "cell_type": "markdown",
   "id": "6c7d125a",
   "metadata": {},
   "source": [
    "#### Convert the numeric target column to discrete values"
   ]
  }
 ],
 "metadata": {
  "kernelspec": {
   "display_name": "Python 3 (ipykernel)",
   "language": "python",
   "name": "python3"
  },
  "language_info": {
   "codemirror_mode": {
    "name": "ipython",
    "version": 3
   },
   "file_extension": ".py",
   "mimetype": "text/x-python",
   "name": "python",
   "nbconvert_exporter": "python",
   "pygments_lexer": "ipython3",
   "version": "3.11.5"
  }
 },
 "nbformat": 4,
 "nbformat_minor": 5
}
